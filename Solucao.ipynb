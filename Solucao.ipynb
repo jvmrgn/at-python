{
 "cells": [
  {
   "cell_type": "markdown",
   "metadata": {},
   "source": [
    "Chegamos no momento mais importante\\! Você veio ao longo dos TPs se preparando e agora chegou a hora da sua avaliação. \n",
    "\n",
    "## **Contexto**\n",
    "\n",
    "Você é um cientista de dados trabalhando para a **INFwebNET**, uma rede social fictícia. Ao longo dos Testes de Performance (TPs) anteriores, você desenvolveu várias ferramentas e scripts para manipular dados dos usuários, amigos, hobbies, jogos e plataformas. Agora, você precisa integrar essas informações com dados externos, realizando **web scraping** para enriquecer o banco de dados da INFwebNET.\n",
    "\n",
    "Seu objetivo é extrair informações da **Wikipédia** sobre as plataformas de jogos citadas nos arquivos utilizados anteriormente, coletar informações de tabelas que contêm listas de jogos, encontrar todos os jogos que foram citados pelos usuários da INFwebNET, associá-los à plataforma e salvar em um arquivo JSON as informações extraídas.\n",
    "\n",
    "## **Níveis de Dificuldade**\n",
    "\n",
    "* **Fácil (★):** Envolve conceitos básicos e aplicação direta de métodos.  \n",
    "* **Médio (★★):** Requer maior compreensão dos conceitos e combinação de diferentes métodos.  \n",
    "* **Difícil (★★★):** Exige aplicação criativa dos conceitos, resolução de problemas e otimização de código.\n",
    "\n",
    "## **Uso de IAs: Sinal Vermelho 🔴**\n",
    "\n",
    "Todas as partes deste trabalho devem ser da autoria do aluno. Qualquer uso de ferramentas generativas de IA, como ChatGPT, é proibido. O uso de IA generativa será considerado má conduta acadêmica e estará sujeito à aplicação do código disciplinar, pois as tarefas deste trabalho foram elaboradas para desafiar o aluno a desenvolver conhecimentos de base, pensamento crítico e habilidades de resolução de problemas. O uso da tecnologia de IA limitaria sua capacidade de desenvolver essas competências e de atingir os objetivos de aprendizagem desta disciplina.  \n",
    "---\n"
   ]
  },
  {
   "cell_type": "markdown",
   "metadata": {},
   "source": [
    "\n",
    "### **1\\. Preparação dos Dados (★)**\n",
    "\n",
    "Crie uma função chamada `carregar_dados` que não recebe parâmetros e retorna um DataFrame do Pandas contendo os dados do arquivo **\"INFwebNet\\_Data.json\"** (criado no TP2). A função deve:\n",
    "\n",
    "* Verificar se todas as colunas estão presentes e se os dados foram carregados corretamente.  \n",
    "* Preencher os campos vazios com o valor **\"Não Informado\"** onde houver dados faltantes.\n"
   ]
  },
  {
   "cell_type": "code",
   "execution_count": null,
   "metadata": {},
   "outputs": [
    {
     "ename": "ModuleNotFoundError",
     "evalue": "No module named 'unidecode'",
     "output_type": "error",
     "traceback": [
      "\u001b[1;31m---------------------------------------------------------------------------\u001b[0m",
      "\u001b[1;31mModuleNotFoundError\u001b[0m                       Traceback (most recent call last)",
      "Cell \u001b[1;32mIn[4], line 10\u001b[0m\n\u001b[0;32m      8\u001b[0m \u001b[38;5;28;01mimport\u001b[39;00m \u001b[38;5;21;01mast\u001b[39;00m\n\u001b[0;32m      9\u001b[0m \u001b[38;5;28;01mfrom\u001b[39;00m \u001b[38;5;21;01mcollections\u001b[39;00m \u001b[38;5;28;01mimport\u001b[39;00m Counter\n\u001b[1;32m---> 10\u001b[0m \u001b[38;5;28;01mimport\u001b[39;00m \u001b[38;5;21;01munidecode\u001b[39;00m\n\u001b[0;32m     11\u001b[0m \u001b[38;5;28;01mfrom\u001b[39;00m \u001b[38;5;21;01murllib\u001b[39;00m\u001b[38;5;21;01m.\u001b[39;00m\u001b[38;5;21;01merror\u001b[39;00m \u001b[38;5;28;01mimport\u001b[39;00m HTTPError, URLError\n\u001b[0;32m     12\u001b[0m \u001b[38;5;28;01mfrom\u001b[39;00m \u001b[38;5;21;01mbs4\u001b[39;00m \u001b[38;5;28;01mimport\u001b[39;00m BeautifulSoup\n",
      "\u001b[1;31mModuleNotFoundError\u001b[0m: No module named 'unidecode'"
     ]
    }
   ],
   "source": []
  },
  {
   "cell_type": "markdown",
   "metadata": {},
   "source": [
    "\n",
    "---\n",
    "\n",
    "### **2\\. Extração de Plataformas (★)**\n",
    "\n",
    "Crie uma função chamada `extrair_plataformas` que recebe como parâmetro o DataFrame retornado pela função `carregar_dados` e retorna um **set** contendo os nomes únicos das **plataformas de jogos** mencionadas pelos usuários na coluna \"plataforma\" associada aos jogos que eles jogam. Salve este set em um arquivo chamado **\"plataformas.txt\"**, com um nome de plataforma por linha.\n",
    "\n",
    "**Observação:** Certifique-se de utilizar um **set** para garantir a unicidade dos nomes das plataformas.\n"
   ]
  },
  {
   "cell_type": "code",
   "execution_count": null,
   "metadata": {},
   "outputs": [],
   "source": []
  },
  {
   "cell_type": "markdown",
   "metadata": {},
   "source": [
    "\n",
    "---\n",
    "\n",
    "### **3\\. Tratamento de Exceções ao Carregar Plataformas (★)**\n",
    "\n",
    "Implemente uma função chamada `carregar_plataformas` que tenta carregar o arquivo **\"plataformas.txt\"** e retorna uma lista com os nomes das plataformas. Se o arquivo não for encontrado, a função deve:\n",
    "\n",
    "* Exibir uma mensagem de erro informando que o arquivo está em falta.  \n",
    "* Solicitar ao usuário que insira o caminho correto do arquivo ou digite **'sair'** para encerrar o programa.  \n",
    "* Se o usuário fornecer um novo caminho, tentar carregar o arquivo novamente.  \n",
    "* Se o usuário digitar **'sair'**, encerrar o programa.\n"
   ]
  },
  {
   "cell_type": "code",
   "execution_count": null,
   "metadata": {},
   "outputs": [],
   "source": []
  },
  {
   "cell_type": "markdown",
   "metadata": {},
   "source": [
    "\n",
    "---\n",
    "\n",
    "### **4\\. Download de Páginas da Wikipédia (★★)**\n",
    "\n",
    "Crie uma função chamada `baixar_paginas_wikipedia` que recebe como parâmetro a lista de plataformas retornada pela função `carregar_plataformas` e retorna uma lista com os caminhos para os arquivos gerados. Para cada plataforma, a função deve:\n",
    "\n",
    "* Formar a URL correspondente na Wikipédia em português no formato `https://pt.wikipedia.org/wiki/Lista_de_jogos_para_{Nome_da_Plataforma}`, substituindo **`{Nome_da_Plataforma}`** pelo nome da plataforma, utilizando underscores (`_`) no lugar de espaços.  \n",
    "* Utilizar a biblioteca **urllib** para fazer o download da página HTML.  \n",
    "* Salvar o conteúdo HTML em arquivos individuais chamados **\"plataforma\\_Nome.html\"**, onde **Nome** é o nome da plataforma, substituindo espaços por underscores.\n",
    "\n",
    "**Exemplo:**\n",
    "\n",
    "Para a plataforma **\"PlayStation 4\"**, a URL seria `https://pt.wikipedia.org/wiki/Lista_de_jogos_para_PlayStation_4` e o arquivo salvo seria **\"plataforma\\_PlayStation\\_4.html\"**.\n"
   ]
  },
  {
   "cell_type": "code",
   "execution_count": null,
   "metadata": {},
   "outputs": [],
   "source": []
  },
  {
   "cell_type": "markdown",
   "metadata": {},
   "source": [
    "\n",
    "---\n",
    "\n",
    "### **5\\. Tratamento de Exceções no Download (★★)**\n",
    "\n",
    "Modifique a função `baixar_paginas_wikipedia` para incluir tratamento de exceções durante o download. Se ocorrer um erro (como `HTTPError` ou `URLError`):\n",
    "\n",
    "* Registrar o nome da plataforma e o erro em um arquivo de log chamado **\"erros\\_download.txt\"**.  \n",
    "* Continuar o processo de download para as próximas plataformas.  \n",
    "* **Desafio recurso extra (implementação opcional):**  \n",
    "  * Caso a página retorne erro 404, parsear a estrutura similar à:  \n",
    "* `<p> <b>A Wikipédia não possui um artigo com este nome exato.</b> Por favor, <a href=\"/wiki/Especial:Pesquisar/Lista_de_jogos_para_Nintendo_switch\" title=\"Especial:Pesquisar/Lista de jogos para Nintendo switch\">procure por <i>Lista de jogos para Nintendo switch</i> na Wikipédia</a> para buscar por títulos alternativos. </p>`  \n",
    "* Utilizar o valor de `href` para baixar a página correta.\n"
   ]
  },
  {
   "cell_type": "code",
   "execution_count": null,
   "metadata": {},
   "outputs": [],
   "source": []
  },
  {
   "cell_type": "markdown",
   "metadata": {},
   "source": [
    "\n",
    "---\n",
    "\n",
    "### **6\\. Parsing das Páginas HTML (★★)**\n",
    "\n",
    "Crie uma função chamada `parsear_paginas` que recebe o caminho do arquivo HTML criado como parâmetro. A função deve:\n",
    "\n",
    "* Utilizar o **BeautifulSoup** para parsear o conteúdo HTML do arquivo.  \n",
    "* Extrair o **título da página** (tag `<title>`) e confirmar se ao menos parte do título extraído corresponde ao nome da plataforma. Ignore diferenças de maiúsculas/minúsculas e acentuação.  \n",
    "* Se o título não corresponder, levantar uma exceção personalizada e registrar o caso em um arquivo **\"erros\\_parse.txt\"**.\n"
   ]
  },
  {
   "cell_type": "code",
   "execution_count": null,
   "metadata": {},
   "outputs": [],
   "source": []
  },
  {
   "cell_type": "markdown",
   "metadata": {},
   "source": [
    "\n",
    "---\n",
    "\n",
    "### **7\\. Extração de Tabelas de Jogos (★★)**\n",
    "\n",
    "Dentro da função `parsear_paginas`, após a verificação do título, a função deve:\n",
    "\n",
    "* Localizar a ou as **tabelas** que contêm a lista de jogos disponíveis para a plataforma. Essas tabelas geralmente estão identificadas pela classe `\"wikitable\"` ou possuem um cabeçalho específico.  \n",
    "* Extrair os dados dos jogos, incluindo as colunas disponíveis (por exemplo, \"Título\", \"Desenvolvedor\", \"Data de lançamento\", etc.).  \n",
    "* Armazenar os dados em uma estrutura de dados conforme o formato especificado no item 9\\.\n",
    "\n",
    "**Observação:** Certifique-se de capturar todas as tabelas relevantes que contêm listas de jogos.\n"
   ]
  },
  {
   "cell_type": "code",
   "execution_count": null,
   "metadata": {},
   "outputs": [],
   "source": []
  },
  {
   "cell_type": "markdown",
   "metadata": {},
   "source": [
    "\n",
    "---\n",
    "\n",
    "### **8\\. Uso de Expressões Regulares (★★)**\n",
    "\n",
    "Crie uma função chamada `extrair_urls_emails` que percorre todos os arquivos **\"plataforma\\_Nome.html\"** e, utilizando **expressões regulares** em conjunto com o BeautifulSoup, extrai todas as **URLs** e **e-mails** presentes nas páginas. Armazene esses dados em um dicionário com as chaves \"urls\" e \"emails\" e salve em um arquivo JSON chamado **\"conexoes\\_plataformas.json\"**.\n",
    "\n",
    "- **regex e-mail: `r\"^([\\w-]+(?:\\.[\\w-]+)*)@((?:[\\w-]+\\.)*\\w[\\w-]{0,66})\\.([a-z]{2,6}(?:\\.[a-z]{2})?)$\"`**  \n",
    "- **regex urls: `r\"((([A-Za-z]{3,9}:(?:\\/\\/)?)(?:[-;:&=\\+\\$,\\w]+@)?[A-Za-z0-9.-]+|(?:www.|[-;:&=\\+\\$,\\w]+@)[A-Za-z0-9.-]+)((?:\\/[\\+~%\\/.\\w-_]*)?\\??(?:[-\\+=&;%@.\\w_]*)#?(?:[.\\!\\/\\\\w]*))?)\"`**\n"
   ]
  },
  {
   "cell_type": "code",
   "execution_count": null,
   "metadata": {},
   "outputs": [],
   "source": []
  },
  {
   "cell_type": "markdown",
   "metadata": {},
   "source": [
    "\n",
    "---\n",
    "\n",
    "### **9\\. Exportação dos Dados (★★★)**\n",
    "\n",
    "**Enunciado:**\n",
    "\n",
    "Crie uma função chamada `exportar_dados_jogos` que recebe a estrutura de dados com os jogos extraídos e salva em um arquivo JSON chamado **\"dados\\_jogos\\_plataformas.json\"** no seguinte formato:\n",
    "\n",
    "`[`  \n",
    "  `{`  \n",
    "    `\"plataforma\": \"Nome_da_Plataforma\",`  \n",
    "    `\"jogos\": [`  \n",
    "      `{`  \n",
    "        `\"nome_jogo\": \"Nome_do_Jogo\",`  \n",
    "        `\"dados_jogo\": {`  \n",
    "          `\"campo_1\": \"valor_1\",`  \n",
    "          `\"campo_2\": \"valor_2\",`  \n",
    "          `...`  \n",
    "        `}`  \n",
    "      `},`  \n",
    "      `...`  \n",
    "    `]`  \n",
    "  `},`  \n",
    "  `...`  \n",
    "`]`\n",
    "\n",
    "**Observações:**\n",
    "\n",
    "* Os \"campos\" em \"dados\\_jogo\" devem ser os nomes das colunas da tabela extraída.  \n",
    "* Certifique-se de que todos os dados estão corretamente estruturados conforme o formato acima.\n"
   ]
  },
  {
   "cell_type": "code",
   "execution_count": null,
   "metadata": {},
   "outputs": [],
   "source": []
  },
  {
   "cell_type": "markdown",
   "metadata": {},
   "source": [
    "\n",
    "---\n",
    "\n",
    "### **10\\. Associação de Jogos aos Usuários (★★)**\n",
    "\n",
    "Crie uma função chamada `associar_jogos_usuarios` que recebe como parâmetros:\n",
    "\n",
    "* O DataFrame dos usuários retornado por `carregar_dados`.  \n",
    "* A estrutura de dados com os jogos extraídos no formato especificado.\n",
    "\n",
    "A função deve:\n",
    "\n",
    "* Para cada usuário, verificar quais jogos mencionados por ele estão presentes na lista de jogos extraídos das páginas das plataformas.  \n",
    "* Criar uma associação entre o usuário, o jogo e a plataforma correspondente.  \n",
    "* Atualizar o DataFrame dos usuários, adicionando uma coluna que contém uma lista de dicionários com os jogos e plataformas associados.\n"
   ]
  },
  {
   "cell_type": "code",
   "execution_count": null,
   "metadata": {},
   "outputs": [],
   "source": []
  },
  {
   "cell_type": "markdown",
   "metadata": {},
   "source": [
    "\n",
    "---\n",
    "\n",
    "### **11\\. Atualização do Banco de Dados (★★)**\n",
    "\n",
    "Crie uma função chamada `atualizar_banco_dados` que atualiza o banco de dados SQLite **\"INFwebNET\\_DB.db\"**, criado no TP3, adicionando uma nova tabela chamada **\"Jogos\\_Plataformas\"** que contém as informações dos jogos e plataformas extraídos. Use **SQLAlchemy** e **Pandas** para realizar esta operação.\n"
   ]
  },
  {
   "cell_type": "code",
   "execution_count": null,
   "metadata": {},
   "outputs": [],
   "source": []
  },
  {
   "cell_type": "markdown",
   "metadata": {},
   "source": [
    "\n",
    "---\n",
    "\n",
    "### **12\\. Consulta aos Dados (★★)**\n",
    "\n",
    "Crie uma função chamada `consultar_usuarios_por_jogo` que recebe como parâmetro o nome de um jogo e retorna uma lista de usuários que jogam esse jogo. A função deve:\n",
    "\n",
    "* Permitir que o nome do jogo seja fornecido pelo usuário via `input()`.  \n",
    "* Realizar a consulta no banco de dados atualizado.  \n",
    "* Exibir os nomes dos usuários encontrados.\n"
   ]
  },
  {
   "cell_type": "code",
   "execution_count": null,
   "metadata": {},
   "outputs": [],
   "source": []
  },
  {
   "cell_type": "markdown",
   "metadata": {},
   "source": [
    "\n",
    "---\n",
    "\n",
    "### **13\\. Análise Estatística (★★)**\n",
    "\n",
    "Crie uma função chamada `plataforma_mais_popular` que utiliza o banco de dados para calcular qual é a **plataforma mais popular** entre os usuários da INFwebNET, com base nos jogos que eles jogam. A função deve:\n",
    "\n",
    "* Contar o número de usuários que jogam jogos em cada plataforma.  \n",
    "* Exibir o nome da plataforma mais popular e o número de usuários.\n"
   ]
  },
  {
   "cell_type": "code",
   "execution_count": null,
   "metadata": {},
   "outputs": [],
   "source": []
  },
  {
   "cell_type": "markdown",
   "metadata": {},
   "source": [
    "\n",
    "---\n",
    "\n",
    "### **14\\. Guardando as Informações (★)**\n",
    "\n",
    "Crie uma função chamada `salvar_dados_completos` que não recebe parâmetros e salva todas as informações associadas (usuários, jogos, plataformas) em um arquivo JSON chamado **\"INFwebNET\\_Completo.json\"**. O arquivo deve conter uma lista de usuários, onde cada usuário possui seus dados pessoais e uma lista de jogos que ele joga, com as respectivas plataformas.\n"
   ]
  },
  {
   "cell_type": "code",
   "execution_count": null,
   "metadata": {},
   "outputs": [],
   "source": []
  },
  {
   "cell_type": "markdown",
   "metadata": {},
   "source": [
    "\n",
    "---\n",
    "\n",
    "### **15\\. Documentação do Código (★)**\n",
    "\n",
    "Documente adequadamente ao menos as **cinco funções que você considere mais importantes e complexas** do seu código usando **docstrings** no formato **PEP 257**, explicando o propósito de cada função, os parâmetros esperados e os valores retornados.\n"
   ]
  },
  {
   "cell_type": "code",
   "execution_count": null,
   "metadata": {},
   "outputs": [],
   "source": []
  },
  {
   "cell_type": "markdown",
   "metadata": {},
   "source": [
    "\n",
    "---\n",
    "\n",
    "### **16\\. Relatório Final (★★)**\n",
    "\n",
    "Elabore um **breve relatório** (máximo de duas páginas) descrevendo as etapas realizadas, as dificuldades encontradas e como as competências foram aplicadas na resolução do problema. E, opcionalmente, sua percepção e feedback sobre o curso.\n"
   ]
  },
  {
   "cell_type": "code",
   "execution_count": null,
   "metadata": {},
   "outputs": [],
   "source": []
  },
  {
   "cell_type": "markdown",
   "metadata": {},
   "source": [
    "\n",
    "---\n",
    "\n",
    "## **Observações Importantes**\n",
    "\n",
    "* **Interação com o Usuário:** Todas as entradas do usuário devem ser solicitadas através da função `input()`, seguindo as instruções de cada item.\n",
    "\n",
    "* **Nomes de Funções e Arquivos:** Utilize exatamente os nomes especificados para funções e arquivos, podendo utilizar outras funções auxiliares caso julgue necessário.\n",
    "\n",
    "* **Formatação do Código:** Siga as normas de estilo recomendadas na **PEP 8** ao escrever seu código. Use indentação consistente, nomes de variáveis significativos e comentários quando necessário.\n",
    "\n",
    "* **Dados Faltantes:** Onde houver dados faltantes, insira o valor **\"Não Informado\"**.\n",
    "\n",
    "* **Endereços da Wikipédia:** Utilize as URLs formadas no formato `https://pt.wikipedia.org/wiki/Lista_de_jogos_para_Nome_da_Plataforma`, substituindo espaços por underscores.\n",
    "\n",
    "* **Uso de Sets:** Certifique-se de utilizar **sets** quando especificado para garantir a unicidade dos elementos.\n"
   ]
  },
  {
   "cell_type": "markdown",
   "metadata": {},
   "source": [
    "\n",
    "---\n",
    "\n",
    "**Boa sorte\\!** Lembre-se de seguir as instruções cuidadosamente e de aplicar as competências adquiridas ao longo do curso.\n",
    "\n",
    "---\n",
    "\n"
   ]
  },
  {
   "cell_type": "markdown",
   "metadata": {},
   "source": [
    "\n",
    "## **Entrega**\n",
    "\n",
    "Você deve entregar **todos os arquivos** utilizados e gerados na solução, incluindo códigos-fonte, arquivos de dados e outros recursos, compactados em um arquivo zip nomeado conforme a regra:\n",
    "\n",
    "nome\\_sobrenome\\_DR4\\_AT.ZIP\n",
    "\n",
    "Além disso, realize o **commit** e **push** no repositório criado para este fim."
   ]
  }
 ],
 "metadata": {
  "kernelspec": {
   "display_name": "Python 3",
   "language": "python",
   "name": "python3"
  },
  "language_info": {
   "codemirror_mode": {
    "name": "ipython",
    "version": 3
   },
   "file_extension": ".py",
   "mimetype": "text/x-python",
   "name": "python",
   "nbconvert_exporter": "python",
   "pygments_lexer": "ipython3",
   "version": "3.12.4"
  }
 },
 "nbformat": 4,
 "nbformat_minor": 2
}
